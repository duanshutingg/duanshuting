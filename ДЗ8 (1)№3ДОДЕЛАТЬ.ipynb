{
 "cells": [
  {
   "cell_type": "markdown",
   "metadata": {},
   "source": [
    "# Многопоточность в Python. Библиотеки threading и multiprocessing.\n",
    "\n",
    "http://cs.mipt.ru/advanced_python/lessons/lab6.html"
   ]
  },
  {
   "cell_type": "markdown",
   "metadata": {},
   "source": [
    "## Задание 1:\n",
    "\n",
    "распараллелить чистку текста (колонки text). Функция чистки текста уже написана за вас. Вам нужно только установить все библиотеки (например, через анаконду)\n",
    "\n",
    "\n",
    "https://anaconda.org/anaconda/nltk"
   ]
  },
  {
   "cell_type": "code",
   "execution_count": 1,
   "metadata": {
    "collapsed": true
   },
   "outputs": [],
   "source": [
    "# подрубаем нужные библиотеки\n",
    "import os # для путей\n",
    "import numpy as np # для массивов\n",
    "import pandas as pd # для работы и хранения данных в ОП\n",
    "\n",
    "import warnings \n",
    "warnings.filterwarnings('ignore') # все предупреждения офф - чтобы не мешали\n",
    "\n",
    "from nltk.corpus import stopwords # частые слова\n",
    "from nltk.stem import PorterStemmer # нлтк стеммер\n",
    "from nltk.stem import WordNetLemmatizer # нлтк лемматизатор\n",
    "from nltk import word_tokenize, sent_tokenize # для разбиения предложений на токены-слова\n",
    "import re # библиотека для регулярных выражений"
   ]
  },
  {
   "cell_type": "markdown",
   "metadata": {},
   "source": [
    "данные здесь: https://www.kaggle.com/c/dlinnlp-spring-2019-clf/data"
   ]
  },
  {
   "cell_type": "code",
   "execution_count": 14,
   "metadata": {},
   "outputs": [
    {
     "name": "stdout",
     "output_type": "stream",
     "text": [
      "24871 5647 30518\n"
     ]
    },
    {
     "data": {
      "text/html": [
       "<div>\n",
       "<style scoped>\n",
       "    .dataframe tbody tr th:only-of-type {\n",
       "        vertical-align: middle;\n",
       "    }\n",
       "\n",
       "    .dataframe tbody tr th {\n",
       "        vertical-align: top;\n",
       "    }\n",
       "\n",
       "    .dataframe thead th {\n",
       "        text-align: right;\n",
       "    }\n",
       "</style>\n",
       "<table border=\"1\" class=\"dataframe\">\n",
       "  <thead>\n",
       "    <tr style=\"text-align: right;\">\n",
       "      <th></th>\n",
       "      <th>text</th>\n",
       "      <th>title</th>\n",
       "    </tr>\n",
       "  </thead>\n",
       "  <tbody>\n",
       "    <tr>\n",
       "      <th>0</th>\n",
       "      <td>Economists generally agree: China must overhau...</td>\n",
       "      <td>China and Economic Reform: Xi Jinping’s Track ...</td>\n",
       "    </tr>\n",
       "    <tr>\n",
       "      <th>1</th>\n",
       "      <td>LONDON—British Prime Minister Theresa May said...</td>\n",
       "      <td>Trade to Be a Big Topic in Theresa May’s U.S. ...</td>\n",
       "    </tr>\n",
       "    <tr>\n",
       "      <th>2</th>\n",
       "      <td>Beaches come in all sorts of shapes and sizes ...</td>\n",
       "      <td>The Top Beaches In The World, According To Nat...</td>\n",
       "    </tr>\n",
       "    <tr>\n",
       "      <th>3</th>\n",
       "      <td>A timeline of what happened after Tamir Rice, ...</td>\n",
       "      <td>Sheriff’s Report Provides New Details on Tamir...</td>\n",
       "    </tr>\n",
       "    <tr>\n",
       "      <th>4</th>\n",
       "      <td>An Italian neurosurgeon who has claimed for mo...</td>\n",
       "      <td>Surgeon claiming he will transplant volunteer'...</td>\n",
       "    </tr>\n",
       "    <tr>\n",
       "      <th>5</th>\n",
       "      <td>Spanx does not do the thing I thought it did. ...</td>\n",
       "      <td>This Is How Differently Priced Spanx Can Actua...</td>\n",
       "    </tr>\n",
       "    <tr>\n",
       "      <th>6</th>\n",
       "      <td>“Jane Pauley! You’re all in leather,” said Sam...</td>\n",
       "      <td>Samantha Bee and Jane Pauley Are Breaking the ...</td>\n",
       "    </tr>\n",
       "    <tr>\n",
       "      <th>7</th>\n",
       "      <td>Charles Krauthammer called President Trump's 5...</td>\n",
       "      <td>Krauthammer: Syria Strike 'Total Contradiction...</td>\n",
       "    </tr>\n",
       "    <tr>\n",
       "      <th>8</th>\n",
       "      <td>The United States is making more things than e...</td>\n",
       "      <td>Rust Belt voters made Trump president. Now the...</td>\n",
       "    </tr>\n",
       "    <tr>\n",
       "      <th>9</th>\n",
       "      <td>As Jewish settlers and protesters were removed...</td>\n",
       "      <td>As Illegal Outpost Cleared, Israeli PM Netanya...</td>\n",
       "    </tr>\n",
       "  </tbody>\n",
       "</table>\n",
       "</div>"
      ],
      "text/plain": [
       "                                                text  \\\n",
       "0  Economists generally agree: China must overhau...   \n",
       "1  LONDON—British Prime Minister Theresa May said...   \n",
       "2  Beaches come in all sorts of shapes and sizes ...   \n",
       "3  A timeline of what happened after Tamir Rice, ...   \n",
       "4  An Italian neurosurgeon who has claimed for mo...   \n",
       "5  Spanx does not do the thing I thought it did. ...   \n",
       "6  “Jane Pauley! You’re all in leather,” said Sam...   \n",
       "7  Charles Krauthammer called President Trump's 5...   \n",
       "8  The United States is making more things than e...   \n",
       "9  As Jewish settlers and protesters were removed...   \n",
       "\n",
       "                                               title  \n",
       "0  China and Economic Reform: Xi Jinping’s Track ...  \n",
       "1  Trade to Be a Big Topic in Theresa May’s U.S. ...  \n",
       "2  The Top Beaches In The World, According To Nat...  \n",
       "3  Sheriff’s Report Provides New Details on Tamir...  \n",
       "4  Surgeon claiming he will transplant volunteer'...  \n",
       "5  This Is How Differently Priced Spanx Can Actua...  \n",
       "6  Samantha Bee and Jane Pauley Are Breaking the ...  \n",
       "7  Krauthammer: Syria Strike 'Total Contradiction...  \n",
       "8  Rust Belt voters made Trump president. Now the...  \n",
       "9  As Illegal Outpost Cleared, Israeli PM Netanya...  "
      ]
     },
     "execution_count": 14,
     "metadata": {},
     "output_type": "execute_result"
    }
   ],
   "source": [
    "path = 'C:/Users/user/kaggle_competitions/news_classification3_ipavlov' # изменить на нужный путь к файлу\n",
    "train_df = pd.read_csv (os.path.join(path, 'train.csv'))\n",
    "test_df = pd.read_csv (os.path.join(path, 'test.csv'))\n",
    "df = pd.concat([train_df, test_df], axis=0, ignore_index=True).drop(['Unnamed: 0', 'label'], axis=1)\n",
    "print(len(train_df), len(test_df), len(df))\n",
    "df.head(10)"
   ]
  },
  {
   "cell_type": "code",
   "execution_count": 16,
   "metadata": {
    "collapsed": true
   },
   "outputs": [],
   "source": [
    "# функция для очистки текста\n",
    "\n",
    "def clean_text(data):\n",
    "    low = True \n",
    "    delstops = True\n",
    "    lemm = True\n",
    "    stem = True\n",
    "    del12gram = True  # True = убираем обрывки слов в 1-2 символа\n",
    "    \n",
    "    \n",
    "    stops = set(stopwords.words(\"english\"))\n",
    "    data = str(data)\n",
    "    data = re.sub(r'[^a-zA-Z ]',r' ',data)\n",
    "    data = ' '.join(data.split()) #убираем лишние пробелы\n",
    "    \n",
    "    if low:\n",
    "        data = data.lower()\n",
    "    \n",
    "    if delstops:\n",
    "        data = \" \".join([w for w in data.split() if w not in stops])\n",
    "\n",
    "    if lemm:      \n",
    "        wordnet_lemmatizer = WordNetLemmatizer()\n",
    "        data = \" \".join([wordnet_lemmatizer.lemmatize(w, pos='a') for w in data.split()])\n",
    "        data = \" \".join([wordnet_lemmatizer.lemmatize(w, pos='n') for w in data.split()])\n",
    "        \n",
    "    if stem:\n",
    "        st = PorterStemmer()\n",
    "        data = \" \".join([st.stem(w) for w in data.split()])\n",
    "        \n",
    "    if del12gram:\n",
    "        data = \" \".join([w for w in data.split() if len(w) > 2])  \n",
    "          \n",
    "    return data"
   ]
  },
  {
   "cell_type": "code",
   "execution_count": 17,
   "metadata": {},
   "outputs": [
    {
     "name": "stdout",
     "output_type": "stream",
     "text": [
      "Wall time: 5min 34s\n"
     ]
    }
   ],
   "source": [
    "%%time\n",
    "# применяем функцию очистки текста\n",
    "df['cleaned_text'] = df['text'].map(clean_text) # ~ Wall time: 5min 34s"
   ]
  },
  {
   "cell_type": "code",
   "execution_count": 18,
   "metadata": {},
   "outputs": [
    {
     "data": {
      "text/html": [
       "<div>\n",
       "<style scoped>\n",
       "    .dataframe tbody tr th:only-of-type {\n",
       "        vertical-align: middle;\n",
       "    }\n",
       "\n",
       "    .dataframe tbody tr th {\n",
       "        vertical-align: top;\n",
       "    }\n",
       "\n",
       "    .dataframe thead th {\n",
       "        text-align: right;\n",
       "    }\n",
       "</style>\n",
       "<table border=\"1\" class=\"dataframe\">\n",
       "  <thead>\n",
       "    <tr style=\"text-align: right;\">\n",
       "      <th></th>\n",
       "      <th>text</th>\n",
       "      <th>title</th>\n",
       "      <th>cleaned_text</th>\n",
       "    </tr>\n",
       "  </thead>\n",
       "  <tbody>\n",
       "    <tr>\n",
       "      <th>0</th>\n",
       "      <td>Economists generally agree: China must overhau...</td>\n",
       "      <td>China and Economic Reform: Xi Jinping’s Track ...</td>\n",
       "      <td>economist gener agre china must overhaul huge ...</td>\n",
       "    </tr>\n",
       "    <tr>\n",
       "      <th>1</th>\n",
       "      <td>LONDON—British Prime Minister Theresa May said...</td>\n",
       "      <td>Trade to Be a Big Topic in Theresa May’s U.S. ...</td>\n",
       "      <td>london british prime minist theresa may said d...</td>\n",
       "    </tr>\n",
       "    <tr>\n",
       "      <th>2</th>\n",
       "      <td>Beaches come in all sorts of shapes and sizes ...</td>\n",
       "      <td>The Top Beaches In The World, According To Nat...</td>\n",
       "      <td>beach come sort shape size beyond typic caribb...</td>\n",
       "    </tr>\n",
       "    <tr>\n",
       "      <th>3</th>\n",
       "      <td>A timeline of what happened after Tamir Rice, ...</td>\n",
       "      <td>Sheriff’s Report Provides New Details on Tamir...</td>\n",
       "      <td>timelin happen tamir rice year old boy kill po...</td>\n",
       "    </tr>\n",
       "    <tr>\n",
       "      <th>4</th>\n",
       "      <td>An Italian neurosurgeon who has claimed for mo...</td>\n",
       "      <td>Surgeon claiming he will transplant volunteer'...</td>\n",
       "      <td>italian neurosurgeon claim month perform world...</td>\n",
       "    </tr>\n",
       "    <tr>\n",
       "      <th>5</th>\n",
       "      <td>Spanx does not do the thing I thought it did. ...</td>\n",
       "      <td>This Is How Differently Priced Spanx Can Actua...</td>\n",
       "      <td>spanx thing thought kristin like mani ladi lil...</td>\n",
       "    </tr>\n",
       "    <tr>\n",
       "      <th>6</th>\n",
       "      <td>“Jane Pauley! You’re all in leather,” said Sam...</td>\n",
       "      <td>Samantha Bee and Jane Pauley Are Breaking the ...</td>\n",
       "      <td>jane pauley leather said samantha bee pauley w...</td>\n",
       "    </tr>\n",
       "    <tr>\n",
       "      <th>7</th>\n",
       "      <td>Charles Krauthammer called President Trump's 5...</td>\n",
       "      <td>Krauthammer: Syria Strike 'Total Contradiction...</td>\n",
       "      <td>charl krauthamm call presid trump missil strik...</td>\n",
       "    </tr>\n",
       "    <tr>\n",
       "      <th>8</th>\n",
       "      <td>The United States is making more things than e...</td>\n",
       "      <td>Rust Belt voters made Trump president. Now the...</td>\n",
       "      <td>unit state make thing ever read right manufact...</td>\n",
       "    </tr>\n",
       "    <tr>\n",
       "      <th>9</th>\n",
       "      <td>As Jewish settlers and protesters were removed...</td>\n",
       "      <td>As Illegal Outpost Cleared, Israeli PM Netanya...</td>\n",
       "      <td>jewish settler protest remov illeg outpost occ...</td>\n",
       "    </tr>\n",
       "  </tbody>\n",
       "</table>\n",
       "</div>"
      ],
      "text/plain": [
       "                                                text  \\\n",
       "0  Economists generally agree: China must overhau...   \n",
       "1  LONDON—British Prime Minister Theresa May said...   \n",
       "2  Beaches come in all sorts of shapes and sizes ...   \n",
       "3  A timeline of what happened after Tamir Rice, ...   \n",
       "4  An Italian neurosurgeon who has claimed for mo...   \n",
       "5  Spanx does not do the thing I thought it did. ...   \n",
       "6  “Jane Pauley! You’re all in leather,” said Sam...   \n",
       "7  Charles Krauthammer called President Trump's 5...   \n",
       "8  The United States is making more things than e...   \n",
       "9  As Jewish settlers and protesters were removed...   \n",
       "\n",
       "                                               title  \\\n",
       "0  China and Economic Reform: Xi Jinping’s Track ...   \n",
       "1  Trade to Be a Big Topic in Theresa May’s U.S. ...   \n",
       "2  The Top Beaches In The World, According To Nat...   \n",
       "3  Sheriff’s Report Provides New Details on Tamir...   \n",
       "4  Surgeon claiming he will transplant volunteer'...   \n",
       "5  This Is How Differently Priced Spanx Can Actua...   \n",
       "6  Samantha Bee and Jane Pauley Are Breaking the ...   \n",
       "7  Krauthammer: Syria Strike 'Total Contradiction...   \n",
       "8  Rust Belt voters made Trump president. Now the...   \n",
       "9  As Illegal Outpost Cleared, Israeli PM Netanya...   \n",
       "\n",
       "                                        cleaned_text  \n",
       "0  economist gener agre china must overhaul huge ...  \n",
       "1  london british prime minist theresa may said d...  \n",
       "2  beach come sort shape size beyond typic caribb...  \n",
       "3  timelin happen tamir rice year old boy kill po...  \n",
       "4  italian neurosurgeon claim month perform world...  \n",
       "5  spanx thing thought kristin like mani ladi lil...  \n",
       "6  jane pauley leather said samantha bee pauley w...  \n",
       "7  charl krauthamm call presid trump missil strik...  \n",
       "8  unit state make thing ever read right manufact...  \n",
       "9  jewish settler protest remov illeg outpost occ...  "
      ]
     },
     "execution_count": 18,
     "metadata": {},
     "output_type": "execute_result"
    }
   ],
   "source": [
    "df.head(10)"
   ]
  },
  {
   "cell_type": "code",
   "execution_count": null,
   "metadata": {
    "collapsed": true
   },
   "outputs": [],
   "source": []
  },
  {
   "cell_type": "markdown",
   "metadata": {},
   "source": [
    "# Задание 2\n",
    "\n",
    "Иногда бывает нужно узнать доступность набора ip адресов. Неэффективный вариант представлен ниже.\n",
    "\n",
    "Реализуйте то же самое, но используя threading."
   ]
  },
  {
   "cell_type": "code",
   "execution_count": 2,
   "metadata": {},
   "outputs": [
    {
     "name": "stdout",
     "output_type": "stream",
     "text": [
      "... pinging  192.168.178.20\n",
      "... pinging  192.168.178.21\n",
      "... pinging  192.168.178.22\n",
      "... pinging  192.168.178.23\n",
      "... pinging  192.168.178.24\n",
      "... pinging  192.168.178.25\n",
      "... pinging  192.168.178.26\n",
      "... pinging  192.168.178.27\n",
      "... pinging  192.168.178.28\n",
      "... pinging  192.168.178.29\n"
     ]
    }
   ],
   "source": [
    "import os, re\n",
    "\n",
    "received_packages = re.compile(r\"(\\d) received\")\n",
    "status = (\"no response\", \"alive but losses\", \"alive\")\n",
    "\n",
    "for suffix in range(20, 30):\n",
    "    ip = \"192.168.178.\" + str(suffix)\n",
    "    ping_out = os.popen(\"ping -q -c2 \" + ip, \"r\")  # получение вердикта\n",
    "    print(\"... pinging \", ip)\n",
    "    while True:\n",
    "        line = ping_out.readline()\n",
    "        if not line:\n",
    "            break\n",
    "        n_received = received_packages.findall(line)\n",
    "        if n_received:\n",
    "            print(ip + \": \" + status[int(n_received[0])])"
   ]
  },
  {
   "cell_type": "code",
   "execution_count": 1,
   "metadata": {},
   "outputs": [
    {
     "name": "stdout",
     "output_type": "stream",
     "text": [
      "Starting server at port 8000\n"
     ]
    },
    {
     "ename": "FileNotFoundError",
     "evalue": "[WinError 3] 系统找不到指定的路径。: '/home/pi/Documents'",
     "output_type": "error",
     "traceback": [
      "\u001b[1;31m---------------------------------------------------------------------------\u001b[0m",
      "\u001b[1;31mFileNotFoundError\u001b[0m                         Traceback (most recent call last)",
      "\u001b[1;32m<ipython-input-1-9a6691080047>\u001b[0m in \u001b[0;36m<module>\u001b[1;34m()\u001b[0m\n\u001b[0;32m     13\u001b[0m     \u001b[0mport\u001b[0m \u001b[1;33m=\u001b[0m \u001b[1;36m8000\u001b[0m\u001b[1;33m\u001b[0m\u001b[0m\n\u001b[0;32m     14\u001b[0m     \u001b[0mprint\u001b[0m\u001b[1;33m(\u001b[0m\u001b[1;34m\"Starting server at port %d\"\u001b[0m \u001b[1;33m%\u001b[0m \u001b[0mport\u001b[0m\u001b[1;33m)\u001b[0m\u001b[1;33m\u001b[0m\u001b[0m\n\u001b[1;32m---> 15\u001b[1;33m     \u001b[0mos\u001b[0m\u001b[1;33m.\u001b[0m\u001b[0mchdir\u001b[0m\u001b[1;33m(\u001b[0m\u001b[1;34m\"/home/pi/Documents\"\u001b[0m\u001b[1;33m)\u001b[0m\u001b[1;33m\u001b[0m\u001b[0m\n\u001b[0m\u001b[0;32m     16\u001b[0m     \u001b[0mThread\u001b[0m\u001b[1;33m(\u001b[0m\u001b[0mtarget\u001b[0m\u001b[1;33m=\u001b[0m\u001b[0mserver_thread\u001b[0m\u001b[1;33m,\u001b[0m \u001b[0margs\u001b[0m\u001b[1;33m=\u001b[0m\u001b[1;33m(\u001b[0m\u001b[0mport\u001b[0m\u001b[1;33m,\u001b[0m\u001b[1;33m)\u001b[0m\u001b[1;33m)\u001b[0m\u001b[1;33m.\u001b[0m\u001b[0mstart\u001b[0m\u001b[1;33m(\u001b[0m\u001b[1;33m)\u001b[0m\u001b[1;33m\u001b[0m\u001b[0m\n",
      "\u001b[1;31mFileNotFoundError\u001b[0m: [WinError 3] 系统找不到指定的路径。: '/home/pi/Documents'"
     ]
    }
   ],
   "source": [
    "import http.server\n",
    "import socketserver\n",
    "from threading import Thread\n",
    "import os\n",
    "\n",
    "def server_thread(port):\n",
    "    handler = http.server.SimpleHTTPRequestHandler\n",
    "    with socketserver.TCPServer((\"\", port), handler) as httpd:\n",
    "        httpd.serve_forever()\n",
    "\n",
    "if __name__ == '__main__':\n",
    "\n",
    "    port = 8000\n",
    "    print(\"Starting server at port %d\" % port)\n",
    "    os.chdir(\"/home/pi/Documents\")\n",
    "    Thread(target=server_thread, args=(port,)).start()"
   ]
  },
  {
   "cell_type": "markdown",
   "metadata": {},
   "source": [
    "# Задание 3\n",
    "\n",
    "= Упражнение №4 из лабы про мультипроцессинг"
   ]
  },
  {
   "cell_type": "markdown",
   "metadata": {},
   "source": [
    "http://cs.mipt.ru/advanced_python/lessons/lab6.html#id14"
   ]
  },
  {
   "cell_type": "code",
   "execution_count": null,
   "metadata": {
    "collapsed": true
   },
   "outputs": [],
   "source": [
    "import urllib.request\n",
    "import time\n",
    "\n",
    "\n",
    "urls = [\n",
    "    'https://www.yandex.ru', 'https://www.google.com',\n",
    "    'https://habrahabr.ru', 'https://www.python.org',\n",
    "    'https://isocpp.org',\n",
    "]\n",
    "\n",
    "\n",
    "def read_url(url):\n",
    "    with urllib.request.urlopen(url) as u:\n",
    "        return u.read()\n",
    "\n",
    "\n",
    "start = time.time()\n",
    "for url in urls:\n",
    "    read_url(url)"
   ]
  }
 ],
 "metadata": {
  "kernelspec": {
   "display_name": "Python 3",
   "language": "python",
   "name": "python3"
  },
  "language_info": {
   "codemirror_mode": {
    "name": "ipython",
    "version": 3
   },
   "file_extension": ".py",
   "mimetype": "text/x-python",
   "name": "python",
   "nbconvert_exporter": "python",
   "pygments_lexer": "ipython3",
   "version": "3.6.1"
  }
 },
 "nbformat": 4,
 "nbformat_minor": 2
}
