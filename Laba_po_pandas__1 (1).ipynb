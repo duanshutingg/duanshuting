{
  "nbformat": 4,
  "nbformat_minor": 0,
  "metadata": {
    "colab": {
      "name": "Лаба по pandas .ipynb",
      "provenance": []
    },
    "kernelspec": {
      "name": "python3",
      "display_name": "Python 3"
    }
  },
  "cells": [
    {
      "cell_type": "code",
      "metadata": {
        "id": "CeZB7yl249M1",
        "colab_type": "code",
        "colab": {}
      },
      "source": [
        "import pandas as pd\n",
        "import numpy as np\n",
        "\n",
        "import matplotlib.pyplot as plt \n",
        "import seaborn as sns \n",
        "\n",
        "import warnings\n",
        "warnings.filterwarnings('ignore')"
      ],
      "execution_count": 0,
      "outputs": []
    },
    {
      "cell_type": "markdown",
      "metadata": {
        "id": "kbvDeaYP7Ayo",
        "colab_type": "text"
      },
      "source": [
        "Для каждой задачи получить ответ на вопрос через pandas и визуализировать его любым подходящим способом."
      ]
    },
    {
      "cell_type": "code",
      "metadata": {
        "id": "UjTlK4BT77q0",
        "colab_type": "code",
        "outputId": "7f44a5f0-0b80-4aa6-cfea-4aa61b9c8f71",
        "colab": {
          "base_uri": "https://localhost:8080/",
          "height": 197
        }
      },
      "source": [
        "df = pd.read_csv('flight_delays.csv')\n",
        "df.head()"
      ],
      "execution_count": 0,
      "outputs": [
        {
          "output_type": "execute_result",
          "data": {
            "text/html": [
              "<div>\n",
              "<style scoped>\n",
              "    .dataframe tbody tr th:only-of-type {\n",
              "        vertical-align: middle;\n",
              "    }\n",
              "\n",
              "    .dataframe tbody tr th {\n",
              "        vertical-align: top;\n",
              "    }\n",
              "\n",
              "    .dataframe thead th {\n",
              "        text-align: right;\n",
              "    }\n",
              "</style>\n",
              "<table border=\"1\" class=\"dataframe\">\n",
              "  <thead>\n",
              "    <tr style=\"text-align: right;\">\n",
              "      <th></th>\n",
              "      <th>Month</th>\n",
              "      <th>DayofMonth</th>\n",
              "      <th>DayOfWeek</th>\n",
              "      <th>DepTime</th>\n",
              "      <th>UniqueCarrier</th>\n",
              "      <th>Origin</th>\n",
              "      <th>Dest</th>\n",
              "      <th>Distance</th>\n",
              "      <th>dep_delayed_15min</th>\n",
              "    </tr>\n",
              "  </thead>\n",
              "  <tbody>\n",
              "    <tr>\n",
              "      <th>0</th>\n",
              "      <td>c-8</td>\n",
              "      <td>c-21</td>\n",
              "      <td>c-7</td>\n",
              "      <td>1934</td>\n",
              "      <td>AA</td>\n",
              "      <td>ATL</td>\n",
              "      <td>DFW</td>\n",
              "      <td>732</td>\n",
              "      <td>N</td>\n",
              "    </tr>\n",
              "    <tr>\n",
              "      <th>1</th>\n",
              "      <td>c-4</td>\n",
              "      <td>c-20</td>\n",
              "      <td>c-3</td>\n",
              "      <td>1548</td>\n",
              "      <td>US</td>\n",
              "      <td>PIT</td>\n",
              "      <td>MCO</td>\n",
              "      <td>834</td>\n",
              "      <td>N</td>\n",
              "    </tr>\n",
              "    <tr>\n",
              "      <th>2</th>\n",
              "      <td>c-9</td>\n",
              "      <td>c-2</td>\n",
              "      <td>c-5</td>\n",
              "      <td>1422</td>\n",
              "      <td>XE</td>\n",
              "      <td>RDU</td>\n",
              "      <td>CLE</td>\n",
              "      <td>416</td>\n",
              "      <td>N</td>\n",
              "    </tr>\n",
              "    <tr>\n",
              "      <th>3</th>\n",
              "      <td>c-11</td>\n",
              "      <td>c-25</td>\n",
              "      <td>c-6</td>\n",
              "      <td>1015</td>\n",
              "      <td>OO</td>\n",
              "      <td>DEN</td>\n",
              "      <td>MEM</td>\n",
              "      <td>872</td>\n",
              "      <td>N</td>\n",
              "    </tr>\n",
              "    <tr>\n",
              "      <th>4</th>\n",
              "      <td>c-10</td>\n",
              "      <td>c-7</td>\n",
              "      <td>c-6</td>\n",
              "      <td>1828</td>\n",
              "      <td>WN</td>\n",
              "      <td>MDW</td>\n",
              "      <td>OMA</td>\n",
              "      <td>423</td>\n",
              "      <td>Y</td>\n",
              "    </tr>\n",
              "  </tbody>\n",
              "</table>\n",
              "</div>"
            ],
            "text/plain": [
              "  Month DayofMonth DayOfWeek  DepTime  ... Origin Dest Distance  dep_delayed_15min\n",
              "0   c-8       c-21       c-7     1934  ...    ATL  DFW      732                  N\n",
              "1   c-4       c-20       c-3     1548  ...    PIT  MCO      834                  N\n",
              "2   c-9        c-2       c-5     1422  ...    RDU  CLE      416                  N\n",
              "3  c-11       c-25       c-6     1015  ...    DEN  MEM      872                  N\n",
              "4  c-10        c-7       c-6     1828  ...    MDW  OMA      423                  Y\n",
              "\n",
              "[5 rows x 9 columns]"
            ]
          },
          "metadata": {
            "tags": []
          },
          "execution_count": 22
        }
      ]
    },
    {
      "cell_type": "markdown",
      "metadata": {
        "id": "DVWv0Ys489Jn",
        "colab_type": "text"
      },
      "source": [
        "1) Доля всех задержек ко всем вылетам."
      ]
    },
    {
      "cell_type": "code",
      "metadata": {
        "id": "TYimtH0U9E53",
        "colab_type": "code",
        "colab": {}
      },
      "source": [
        "delays = df[df['dep_delayed_15min'] == 'Y']\n",
        "without_delays = df[df['dep_delayed_15min'] == 'N']"
      ],
      "execution_count": 0,
      "outputs": []
    },
    {
      "cell_type": "code",
      "metadata": {
        "id": "DQcz41pL_CZw",
        "colab_type": "code",
        "outputId": "ca51c289-a8f6-4ac0-d1ce-e1385b6195cd",
        "colab": {
          "base_uri": "https://localhost:8080/",
          "height": 248
        }
      },
      "source": [
        "plt.pie(df.groupby('dep_delayed_15min')['dep_delayed_15min'].count(), labels = ['all flights','delays'])\n",
        "plt.show()"
      ],
      "execution_count": 0,
      "outputs": [
        {
          "output_type": "display_data",
          "data": {
            "image/png": "[encoded data removed]",
            "text/plain": [
              "<Figure size 432x288 with 1 Axes>"
            ]
          },
          "metadata": {
            "tags": []
          }
        }
      ]
    },
    {
      "cell_type": "markdown",
      "metadata": {
        "id": "5qRwwQNUDSm2",
        "colab_type": "text"
      },
      "source": [
        "2) Найти зависимость количества задержек от длины пути, который предстоит пролететь самолету."
      ]
    },
    {
      "cell_type": "code",
      "metadata": {
        "id": "NjyIYW18DagY",
        "colab_type": "code",
        "outputId": "53910f03-22d6-4f97-ff5e-b77b82af80c2",
        "colab": {
          "base_uri": "https://localhost:8080/",
          "height": 296
        }
      },
      "source": [
        "sns.boxplot(x ='Distance', data = delays)\n"
      ],
      "execution_count": 0,
      "outputs": [
        {
          "output_type": "execute_result",
          "data": {
            "text/plain": [
              "<matplotlib.axes._subplots.AxesSubplot at 0x7f82aaf3f630>"
            ]
          },
          "metadata": {
            "tags": []
          },
          "execution_count": 5
        },
        {
          "output_type": "display_data",
          "data": {
            "image/png": "[encoded data removed]",
            "text/plain": [
              "<Figure size 432x288 with 1 Axes>"
            ]
          },
          "metadata": {
            "tags": []
          }
        }
      ]
    },
    {
      "cell_type": "code",
      "metadata": {
        "id": "kN82KP8ZGJ_F",
        "colab_type": "code",
        "outputId": "9a109c21-a975-47ac-b1b8-0f5724fb44cf",
        "colab": {
          "base_uri": "https://localhost:8080/",
          "height": 296
        }
      },
      "source": [
        "sns.boxplot('Distance', data = without_delays) "
      ],
      "execution_count": 0,
      "outputs": [
        {
          "output_type": "execute_result",
          "data": {
            "text/plain": [
              "<matplotlib.axes._subplots.AxesSubplot at 0x7f82b61d6160>"
            ]
          },
          "metadata": {
            "tags": []
          },
          "execution_count": 6
        },
        {
          "output_type": "display_data",
          "data": {
            "image/png": "[encoded data removed]",
            "text/plain": [
              "<Figure size 432x288 with 1 Axes>"
            ]
          },
          "metadata": {
            "tags": []
          }
        }
      ]
    },
    {
      "cell_type": "markdown",
      "metadata": {
        "id": "yt53ZvBwHKE0",
        "colab_type": "text"
      },
      "source": [
        "Из анализа box-plot нельзя сказать, что задержка значимо зависит от расстояния полета."
      ]
    },
    {
      "cell_type": "markdown",
      "metadata": {
        "id": "qUrcWRHvl-p_",
        "colab_type": "text"
      },
      "source": [
        "3) Топ 5 направлений, для которых чаще всего происходят задержки"
      ]
    },
    {
      "cell_type": "code",
      "metadata": {
        "id": "X4zfMI9HmiEl",
        "colab_type": "code",
        "outputId": "8bbe11ed-5d65-4313-a05d-52efcbb1652f",
        "colab": {
          "base_uri": "https://localhost:8080/",
          "height": 310
        }
      },
      "source": [
        "Number_of_delays = delays.groupby('Dest')['dep_delayed_15min'].count()\n",
        "Top = Number_of_delays.sort_values(ascending=False)\n",
        "Top.iloc[0:5].plot(kind = 'bar')\n"
      ],
      "execution_count": 0,
      "outputs": [
        {
          "output_type": "execute_result",
          "data": {
            "text/plain": [
              "<matplotlib.axes._subplots.AxesSubplot at 0x7f1ac7cb1e80>"
            ]
          },
          "metadata": {
            "tags": []
          },
          "execution_count": 62
        },
        {
          "output_type": "display_data",
          "data": {
            "image/png": "[encoded data removed]",
            "text/plain": [
              "<Figure size 432x288 with 1 Axes>"
            ]
          },
          "metadata": {
            "tags": []
          }
        }
      ]
    },
    {
      "cell_type": "markdown",
      "metadata": {
        "id": "4eXa1HcFowEb",
        "colab_type": "text"
      },
      "source": [
        "4) В какие времена года чаще всего происходят задержки рейсов?"
      ]
    },
    {
      "cell_type": "code",
      "metadata": {
        "id": "VEjxO5hhTuBA",
        "colab_type": "code",
        "colab": {}
      },
      "source": [
        "delays.loc[delays['Month'] == 'c-1', 'season'] = 'winter' \n",
        "delays.loc[delays['Month'] == 'c-2', 'season'] = 'winter' \n",
        "delays.loc[delays['Month'] == 'c-12', 'season'] = 'winter' \n",
        "delays.loc[delays['Month'] == 'c-3', 'season'] = 'spring'\n",
        "delays.loc[delays['Month'] == 'c-4', 'season'] = 'spring'\n",
        "delays.loc[delays['Month'] == 'c-5', 'season'] = 'spring'\n",
        "delays.loc[delays['Month'] == 'c-6', 'season'] = 'summer'\n",
        "delays.loc[delays['Month'] == 'c-7', 'season'] = 'summer'\n",
        "delays.loc[delays['Month'] == 'c-8', 'season'] = 'summer' \n",
        "delays.loc[delays['Month'] == 'c-9', 'season'] = 'autumn'\n",
        "delays.loc[delays['Month'] == 'c-10', 'season'] = 'autumn'\n",
        "delays.loc[delays['Month'] == 'c-11', 'season'] = 'autumn'"
      ],
      "execution_count": 0,
      "outputs": []
    },
    {
      "cell_type": "code",
      "metadata": {
        "id": "7SEBJmgUXNEy",
        "colab_type": "code",
        "outputId": "a5169f91-8c30-4013-e6b6-a1dd4c44f381",
        "colab": {
          "base_uri": "https://localhost:8080/",
          "height": 301
        }
      },
      "source": [
        "sns.countplot(x='dep_delayed_15min', hue='season', data=delays)"
      ],
      "execution_count": 0,
      "outputs": [
        {
          "output_type": "execute_result",
          "data": {
            "text/plain": [
              "<matplotlib.axes._subplots.AxesSubplot at 0x7f1ab7516630>"
            ]
          },
          "metadata": {
            "tags": []
          },
          "execution_count": 60
        },
        {
          "output_type": "display_data",
          "data": {
            "image/png": "[encoded data removed]",
            "text/plain": [
              "<Figure size 432x288 with 1 Axes>"
            ]
          },
          "metadata": {
            "tags": []
          }
        }
      ]
    },
    {
      "cell_type": "markdown",
      "metadata": {
        "id": "4aHZoh8eYiXB",
        "colab_type": "text"
      },
      "source": [
        "4) Hайти топ 10 самых хороших перевозчиков, которые реже всего задерживают свои рейсы."
      ]
    },
    {
      "cell_type": "code",
      "metadata": {
        "id": "HcU94oUbYo-O",
        "colab_type": "code",
        "outputId": "d501a1b8-9597-4226-e1ee-49ed2a697537",
        "colab": {
          "base_uri": "https://localhost:8080/",
          "height": 302
        }
      },
      "source": [
        "Best_companies = without_delays.groupby('UniqueCarrier')['dep_delayed_15min'].count()\n",
        "Top_companies = Best_companies.sort_values(ascending=True)\n",
        "Top_companies.iloc[0:5].plot(kind = 'bar')"
      ],
      "execution_count": 0,
      "outputs": [
        {
          "output_type": "execute_result",
          "data": {
            "text/plain": [
              "<matplotlib.axes._subplots.AxesSubplot at 0x7f1ac9985748>"
            ]
          },
          "metadata": {
            "tags": []
          },
          "execution_count": 66
        },
        {
          "output_type": "display_data",
          "data": {
            "image/png": "[encoded data removed]",
            "text/plain": [
              "<Figure size 432x288 with 1 Axes>"
            ]
          },
          "metadata": {
            "tags": []
          }
        }
      ]
    },
    {
      "cell_type": "markdown",
      "metadata": {
        "id": "gcNMz0kPZ2xV",
        "colab_type": "text"
      },
      "source": [
        "5) Найти топ 10 самых безответственных аэропортов, в которых чаще всего происходят задержки."
      ]
    },
    {
      "cell_type": "code",
      "metadata": {
        "id": "luwZG_fNZ9Iz",
        "colab_type": "code",
        "outputId": "01b4dceb-d46e-4b0a-f5e7-2c78e0670528",
        "colab": {
          "base_uri": "https://localhost:8080/",
          "height": 310
        }
      },
      "source": [
        "Worst_airports = delays.groupby('Origin')['dep_delayed_15min'].count()\n",
        "Top_worst = Worst_airports.sort_values(ascending=False)\n",
        "Top_worst.iloc[0:5].plot(kind = 'bar')"
      ],
      "execution_count": 0,
      "outputs": [
        {
          "output_type": "execute_result",
          "data": {
            "text/plain": [
              "<matplotlib.axes._subplots.AxesSubplot at 0x7f1ab74ef828>"
            ]
          },
          "metadata": {
            "tags": []
          },
          "execution_count": 67
        },
        {
          "output_type": "display_data",
          "data": {
            "image/png": "[encoded data removed]",
            "text/plain": [
              "<Figure size 432x288 with 1 Axes>"
            ]
          },
          "metadata": {
            "tags": []
          }
        }
      ]
    },
    {
      "cell_type": "markdown",
      "metadata": {
        "id": "UJB4j3o3akyl",
        "colab_type": "text"
      },
      "source": [
        "6) Hайти необычную зависимость количества задержек от имеющихся данных."
      ]
    },
    {
      "cell_type": "code",
      "metadata": {
        "id": "hLCvbx5IasuQ",
        "colab_type": "code",
        "outputId": "180dae77-a652-453e-ae32-9db9b6fc20bf",
        "colab": {
          "base_uri": "https://localhost:8080/",
          "height": 302
        }
      },
      "source": [
        "Dependence1 = delays.groupby('DayOfWeek')['dep_delayed_15min'].count()\n",
        "Dependence.plot(kind = 'bar')"
      ],
      "execution_count": 0,
      "outputs": [
        {
          "output_type": "execute_result",
          "data": {
            "text/plain": [
              "<matplotlib.axes._subplots.AxesSubplot at 0x7f1abccbb780>"
            ]
          },
          "metadata": {
            "tags": []
          },
          "execution_count": 70
        },
        {
          "output_type": "display_data",
          "data": {
            "image/png": "[encoded data removed]",
            "text/plain": [
              "<Figure size 432x288 with 1 Axes>"
            ]
          },
          "metadata": {
            "tags": []
          }
        }
      ]
    },
    {
      "cell_type": "code",
      "metadata": {
        "id": "YycvB_9SfJzU",
        "colab_type": "code",
        "outputId": "940c6132-f9d6-4064-fe2e-2b7ad1673c29",
        "colab": {
          "base_uri": "https://localhost:8080/",
          "height": 307
        }
      },
      "source": [
        "Dependence2 = delays.groupby('DayofMonth')['dep_delayed_15min'].count()\n",
        "Worst_days = Dependence2.sort_values(ascending=False)\n",
        "Worst_days.plot(kind = 'bar')"
      ],
      "execution_count": 0,
      "outputs": [
        {
          "output_type": "execute_result",
          "data": {
            "text/plain": [
              "<matplotlib.axes._subplots.AxesSubplot at 0x7f1ac7a53518>"
            ]
          },
          "metadata": {
            "tags": []
          },
          "execution_count": 73
        },
        {
          "output_type": "display_data",
          "data": {
            "image/png": "[encoded data removed]",
            "text/plain": [
              "<Figure size 432x288 with 1 Axes>"
            ]
          },
          "metadata": {
            "tags": []
          }
        }
      ]
    },
    {
      "cell_type": "code",
      "metadata": {
        "id": "UKWzWnUYfyZj",
        "colab_type": "code",
        "outputId": "3b397323-12e5-4968-b156-e0bfdb13ee86",
        "colab": {
          "base_uri": "https://localhost:8080/",
          "height": 33
        }
      },
      "source": [
        "Fr13 = delays[(delays['DayOfWeek'] == 'c-5') & (delays['DayofMonth'] == 'c-13')]['dep_delayed_15min'].count() # кол-во задержек в пятницу 13ого\n",
        "Fr = delays[(delays['DayOfWeek'] == 'c-5')]['dep_delayed_15min'].count() / 31 # среднее кол-во задержек в любую пятницу\n",
        "Any13 = delays[(delays['DayofMonth'] == 'c-13')]['dep_delayed_15min'].count() / 7 # среднее кол-во задержек 13-ого числа\n",
        "Arr = [Fr13, Fr, Any13]\n",
        "Arr"
      ],
      "execution_count": 0,
      "outputs": [
        {
          "output_type": "execute_result",
          "data": {
            "text/plain": [
              "[90, 105.96774193548387, 85.71428571428571]"
            ]
          },
          "metadata": {
            "tags": []
          },
          "execution_count": 85
        }
      ]
    },
    {
      "cell_type": "markdown",
      "metadata": {
        "id": "DOsfrPVqj4Eh",
        "colab_type": "text"
      },
      "source": [
        "Зависимость кол-ва задержек от всего кроме конкретной даты были исследованы в предыдущих пунктах по требованию лабы. Значит осталось проверить зависимость от дня недели и числа. Но никаких \"необычных\" результатов обнаружено не было. Даже пятница 13ого ничем особо не выделилась. Возможны какие-то более сложные зависимости. "
      ]
    }
  ]
}