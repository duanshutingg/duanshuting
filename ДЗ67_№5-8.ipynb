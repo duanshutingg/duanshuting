{
 "cells": [
  {
   "cell_type": "markdown",
   "metadata": {},
   "source": [
    "# Задача 5 = задача 2 из лабы про ООП\n",
    "Вам на вход приходит последовательность целых чисел. Вам надо обрабатывать ее следующим образом: выводить на экран сумму первых пяти чисел этой последовательности, затем следующих 5 итд\n",
    "\n",
    "Но последовательность не дается вам сразу целиком. С течением времени к вам поступают её последовательные части. Например, сначала первые три элемента, потом следующие шесть, потом следующие два и т. д.\n",
    "\n",
    "Реализуйте класс Buffer, который будет накапливать в себе элементы последовательности и выводить сумму пятерок последовательных элементов по мере их накопления.\n",
    "\n",
    "Одним из требований к классу является то, что он не должен хранить в себе больше элементов, чем ему действительно необходимо, т. е. он не должен хранить элементы, которые уже вошли в пятерку, для которой была выведена сумма.\n",
    "\n",
    "Класс должен иметь следующий вид"
   ]
  },
  {
   "cell_type": "code",
   "execution_count": 1,
   "metadata": {
    "collapsed": true
   },
   "outputs": [],
   "source": [
    "class Buffer:\n",
    "    def __init__(self):\n",
    "        self.batch = []\n",
    "        self.size = 0\n",
    "        \n",
    "    def add(self, *a):\n",
    "        term_ind = 5-self.size\n",
    "        #print('ti: ',term_ind)\n",
    "        if term_ind > len(a):\n",
    "            self.batch += list(a)\n",
    "            self.size+=len(a)\n",
    "        else:\n",
    "            #print(self.values)\n",
    "            self.batch +=  list(a[:term_ind])\n",
    "            print('sum of ', self.batch,' is ', sum(self.batch))\n",
    "            self.size=0\n",
    "            self.batch=[]\n",
    "            self.add(*a[term_ind:])        \n",
    "\n",
    "    def get_current_part(self):\n",
    "        print('Current part is ',self.batch)\n",
    "        return self.batch"
   ]
  },
  {
   "cell_type": "code",
   "execution_count": 2,
   "metadata": {},
   "outputs": [
    {
     "name": "stdout",
     "output_type": "stream",
     "text": [
      "sum of  [1, 2, 3, 1, 2]  is  9\n",
      "sum of  [3, 4, 1, 2, 3]  is  13\n",
      "Current part is  [4]\n"
     ]
    },
    {
     "data": {
      "text/plain": [
       "[4]"
      ]
     },
     "execution_count": 2,
     "metadata": {},
     "output_type": "execute_result"
    }
   ],
   "source": [
    "a = Buffer()\n",
    "a.add(1,2,3)\n",
    "a.add(1,2,3,4)\n",
    "a.add(1,2,3,4)\n",
    "a.get_current_part()"
   ]
  },
  {
   "cell_type": "code",
   "execution_count": null,
   "metadata": {
    "collapsed": true
   },
   "outputs": [],
   "source": []
  },
  {
   "cell_type": "markdown",
   "metadata": {},
   "source": [
    "# Задача 6 = задача 3 из лабы про ООП\n",
    "Создайте правильные цепочки наследования классов для: Животное, собака, щенок, самолет, компьютер, имеющее лапы, летающее, орел, белка-летяга, разумное, человек, медуза, одуванчик. В эти классы добавьте конструкторы, а также методы для следующих действий (где надо): полаять, родить, сложить два числа, ужалить, подумать, взлететь, пустить корни, поесть, взять, а также следующие поля: возраст, латинское название (или модель). Прокомментируйте вашу логику"
   ]
  },
  {
   "cell_type": "code",
   "execution_count": 5,
   "metadata": {},
   "outputs": [
    {
     "name": "stdout",
     "output_type": "stream",
     "text": [
      "полаять\n"
     ]
    }
   ],
   "source": [
    "from copy import copy\n",
    "def print_factory(string):\n",
    "    def f(self):\n",
    "        return print(string)  # i is now a *local* variable of f_factory and can't ever change\n",
    "    return f\n",
    "function_names = 'полаять, родить, сложить_два_числа, ужалить, подумать, взлететь, пустить_корни, поесть, взять'.split(sep=', ')\n",
    "functions = {i:print_factory(i) for i in function_names}\n",
    "functions[function_names[0]]('аргумент')"
   ]
  },
  {
   "cell_type": "code",
   "execution_count": 6,
   "metadata": {
    "collapsed": true
   },
   "outputs": [],
   "source": [
    "from functools import partial\n",
    "class OBJ_CUSTOM():\n",
    "    def __init__(self):\n",
    "        super()\n",
    "    def add_methods(self, *funcs):\n",
    "        for f in funcs:\n",
    "            setattr(self, f, partial(functions[f], self))"
   ]
  },
  {
   "cell_type": "code",
   "execution_count": 7,
   "metadata": {},
   "outputs": [
    {
     "name": "stdout",
     "output_type": "stream",
     "text": [
      "пустить_корни\n"
     ]
    }
   ],
   "source": [
    "class Oduvanchik(OBJ_CUSTOM):\n",
    "    def __init__(self):\n",
    "        super()\n",
    "        self.add_methods('пустить_корни')\n",
    "        self.age = 0\n",
    "        self.latin = 'oduvanchik'\n",
    "Oduvanchik().пустить_корни()"
   ]
  },
  {
   "cell_type": "code",
   "execution_count": 8,
   "metadata": {},
   "outputs": [],
   "source": [
    "class Komputer(OBJ_CUSTOM):\n",
    "    def __init__(self):\n",
    "        super().__init__()\n",
    "        self.age = 0\n",
    "        self.latin = 'komputer'\n",
    "        self.add_methods('сложить_два_числа')\n",
    "        \n",
    "class Letaushee(OBJ_CUSTOM):# Если найти достаточно высокую гору, то летает все, но в более узком смысле, пусть летают как самолеты, так и некоторые животные\n",
    "    def __init__(self):\n",
    "        super().__init__()\n",
    "        self.add_methods('взлететь')\n",
    "        self.age = 0\n",
    "        self.latin = 'Letaushee'\n",
    "        \n",
    "class Razumnoe(OBJ_CUSTOM): # гипотетически Искуственный Интеллект разумен, а он не живой\n",
    "    def __init__(self):\n",
    "        super().__init__()\n",
    "        self.add_methods('сложить_два_числа','подумать')  #Если что-то или кто-то разумно (разумен), ему не составит труда сложить два небольших числа (по такой классификации я не разумен, но отбросим это для простоты)\n",
    "        self.age = 0\n",
    "        self.latin = 'Razumnoe'\n",
    "\n",
    "class ImeusheeLapy(OBJ_CUSTOM): #ветка ели - лапа, так что много что может иметь лапы, поэтому никаких подходящих функций не добавить\n",
    "    def __init__(self):\n",
    "        super().__init__()\n",
    "        self.age = 0\n",
    "        self.latin = 'ImeusheeLapy'\n",
    "class Zhivotnoe(OBJ_CUSTOM): #Логично считать, что все животные в некотором смысле рожают\n",
    "    def __init__(self):\n",
    "        super().__init__()\n",
    "        self.age = 0\n",
    "        self.latin = 'zhivotnoe'\n",
    "        self.add_methods('родить')\n",
    "\n",
    "class BelkaLetyaga(ImeusheeLapy, Zhivotnoe, Letaushee):\n",
    "    def __init__(self):\n",
    "        super().__init__()\n",
    "        self.add_methods('взять','поесть')\n",
    "        self.latin = 'BelkaLetyaga'\n",
    "        \n",
    "class Sobaka(ImeusheeLapy, Razumnoe, Zhivotnoe):\n",
    "    def __init__(self):\n",
    "        super().__init__()\n",
    "        self.add_methods('взять','поесть')\n",
    "        self.latin = 'Sobaka'\n",
    "        \n",
    "class Shenok(Sobaka):\n",
    "    def __init__(self):\n",
    "        super().__init__() \n",
    "        self.age -= 1 #то же самое что и собака, но, наверное, младше среднего\n",
    "        self.latin = 'Shenok'\n",
    "        \n",
    "class Orel(Zhivotnoe, Letaushee, Razumnoe):\n",
    "    def __init__(self):\n",
    "        super().__init__()\n",
    "        self.add_methods('взять','поесть')\n",
    "        self.latin = 'Orel'\n",
    "        \n",
    "class Chelovek(Zhivotnoe, ImeusheeLapy, Razumnoe):\n",
    "    def __init__(self):\n",
    "        super().__init__()\n",
    "        self.add_methods('взять','поесть','пустить_корни','полаять') #Иногда человеки лают. Временами о людях говорят, что они пускают корни\n",
    "        self.latin = 'Chelovek'\n",
    "        \n",
    "class Meduza(Zhivotnoe):\n",
    "    def __init__(self):\n",
    "        super().__init__()\n",
    "        self.add_methods('ужалить') #некоторые медузы жалят\n",
    "        self.latin = 'Meduza'\n",
    "class Samolet(Letaushee):\n",
    "     def __init__(self):\n",
    "        super().__init__()\n",
    "        self.latin = 'Samolet'"
   ]
  },
  {
   "cell_type": "code",
   "execution_count": 9,
   "metadata": {},
   "outputs": [
    {
     "data": {
      "text/plain": [
       "-1"
      ]
     },
     "execution_count": 9,
     "metadata": {},
     "output_type": "execute_result"
    }
   ],
   "source": [
    "Shenok().age"
   ]
  },
  {
   "cell_type": "code",
   "execution_count": 10,
   "metadata": {},
   "outputs": [
    {
     "name": "stdout",
     "output_type": "stream",
     "text": [
      "взлететь\n"
     ]
    }
   ],
   "source": [
    "Orel().взлететь()"
   ]
  },
  {
   "cell_type": "code",
   "execution_count": 11,
   "metadata": {},
   "outputs": [
    {
     "name": "stdout",
     "output_type": "stream",
     "text": [
      "подумать\n"
     ]
    }
   ],
   "source": [
    "Orel().подумать()"
   ]
  },
  {
   "cell_type": "code",
   "execution_count": 12,
   "metadata": {},
   "outputs": [
    {
     "name": "stdout",
     "output_type": "stream",
     "text": [
      "родить\n"
     ]
    }
   ],
   "source": [
    "Orel().родить()"
   ]
  },
  {
   "cell_type": "code",
   "execution_count": 13,
   "metadata": {},
   "outputs": [
    {
     "name": "stdout",
     "output_type": "stream",
     "text": [
      "взять\n"
     ]
    }
   ],
   "source": [
    "Orel().взять()"
   ]
  },
  {
   "cell_type": "code",
   "execution_count": 14,
   "metadata": {},
   "outputs": [
    {
     "name": "stdout",
     "output_type": "stream",
     "text": [
      "поесть\n"
     ]
    }
   ],
   "source": [
    "Orel().поесть()"
   ]
  },
  {
   "cell_type": "code",
   "execution_count": null,
   "metadata": {
    "collapsed": true
   },
   "outputs": [],
   "source": []
  },
  {
   "cell_type": "markdown",
   "metadata": {},
   "source": [
    "# Задача 7\n",
    "Добавить в ДЗ5 методы атаки персонажей. Продемонстрировать, что при атаке первого персонажа, у 2ого отнимается здоровье, а у первого расходуется мана или накапливается усталость.\n",
    "\n",
    "Добавить в ДЗ5 методы дебафа. Чтобы персонажи могли замедлять скорость перемещения друг друга. (например, если дефолтное скорость персонажа 2 м/с или 2 клетки за шаг, то после дебафа - 1м/с или 1 клетка за шаг). Помните, что дебаф действует некоторое время (несколько секунд или несколько шагов - зависит от концепции вашей игры (пошаговая стратегия или онлайн)"
   ]
  },
  {
   "cell_type": "code",
   "execution_count": 18,
   "metadata": {},
   "outputs": [
    {
     "ename": "SyntaxError",
     "evalue": "invalid syntax (<ipython-input-18-11e45144e66f>, line 40)",
     "output_type": "error",
     "traceback": [
      "\u001b[1;36m  File \u001b[1;32m\"<ipython-input-18-11e45144e66f>\"\u001b[1;36m, line \u001b[1;32m40\u001b[0m\n\u001b[1;33m    def debuf1?(self):\u001b[0m\n\u001b[1;37m              ^\u001b[0m\n\u001b[1;31mSyntaxError\u001b[0m\u001b[1;31m:\u001b[0m invalid syntax\n"
     ]
    }
   ],
   "source": [
    "import random\n",
    "import threading\n",
    "import time\n",
    "\n",
    "\n",
    "class Player(threading.Thread):\n",
    "    def __init__(self, Name, Angry, Hp, Rank, Bubble, Defend):\n",
    "        threading.Thread.__init__(self)\n",
    "        self.__Name = Name\n",
    "        self.Angry = Angry\n",
    "        self.Hp = Hp\n",
    "        self.Rank = Rank\n",
    "        self.Bubble = Bubble\n",
    "        self.Defend = Defend\n",
    "\n",
    "    def getRank(self):\n",
    "        return self.Rank\n",
    "\n",
    "    def setRank(self, Rank):\n",
    "        self.Rank = Rank\n",
    "\n",
    "    def getHp(self):\n",
    "        return self.Hp\n",
    "\n",
    "    def setHp(self, Hp):\n",
    "        self.Hp = Hp\n",
    "\n",
    "    def normal_kill(self):\n",
    "        time.sleep(0.5)\n",
    "        return -(self.Angry * self.Rank)\n",
    "\n",
    "    def random_defend(self):\n",
    "        temp = random.randint(-10, self.Defend)\n",
    "        if temp > 0:\n",
    "            return True\n",
    "\n",
    "    def outputinfo(self):\n",
    "        print('ИМЯ:', self.__Name, 'Hp：', self.Hp, 'УРОВЕНЬ:', self.Rank, 'ПЕРЕЗАРЯДКА:', self.Bubble)\n",
    "  \n",
    "#Added 2 methods of debuff, dont know how will the play in th game,,,,,,so saaad...\n",
    "    def debuf1(self):\n",
    "        if self.deff > 1 and random.randint(0, 1):\n",
    "            self.deff -= 1\n",
    "        if self.atck >1 and random.randint(0, 1):\n",
    "            self.atck -= 1\n",
    "            \n",
    "    def debuf2(self):\n",
    "        modify = lambda x: x+1\n",
    "        if self.speed > 0:\n",
    "            self.log('Вас настолько тянет во времена, когда трава была зеленее, что ходить по нынешней, блеклой, становится буквально все труднее. -1 к скорости на 10 ходов')\n",
    "            self.speed -= 1\n",
    "            self.intray(self,'speed', modify, 10)\n",
    "        else:\n",
    "            self.log('Да Вы и так стоите, медленнее делать этого, к счастью, нельзя')\n",
    "            \n",
    "        if self.deff > 1 and random.randint(0, 1):\n",
    "            self.log('Вы сдали свой окаменевшие от выслуги лет носки в стирку. -1 к защите на 5 ходов')\n",
    "            self.deff -= 1\n",
    "            self.intray(self,'deff', modify, 5)\n",
    "        else:\n",
    "            self.log('Крепость Вашего лба, закаленная неоднократным наступанием на грабли стала Вашим неотъемлимым, надеемся, достоинством. Оборона остается 1')\n",
    "            \n",
    "        if self.atck >1 and random.randint(0, 1):\n",
    "            self.log('Махатма Ганди произвел на Вас неизгладимое впечатление, пацифистом Вы не стали, но подобрели. -1 к урону на 5 ходов')\n",
    "            self.atck -= 1\n",
    "            self.intray(self,'atck', modify, 5)\n",
    "        else:\n",
    "            self.log('Тот яростный взгляд, которым Вы буравите своих противников -- не отнять. Атака остается 1')\n",
    "        self.tray_manager()\n",
    "\n",
    "\n",
    "class Tank(Player):\n",
    "    def __init__(self, Name, Angry, Hp, Rank, Bubble, Defend, recovery):\n",
    "        threading.Thread.__init__(self)\n",
    "        Player.__init__(self, Name, Angry, Hp, Rank, Bubble, Defend)\n",
    "        self.__recovery = recovery\n",
    "\n",
    "    def random_defend(self):\n",
    "        temp = random.randint(-10, self.Defend + self.__recovery)\n",
    "        if temp > 0:\n",
    "            return True\n",
    "\n",
    "    def regenerate(self):\n",
    "        if self.Bubble > 0:\n",
    "            time.sleep(0.5)\n",
    "            if self.Hp < 100:\n",
    "                self.Hp += 30\n",
    "                if self.Hp > 100:\n",
    "                    self.Hp = 100\n",
    "            self.Bubble -= 10\n",
    "        else:\n",
    "            time.sleep(2)\n",
    "            self.Hp += 5\n",
    "\n",
    "\n",
    "class Assassin(Player):\n",
    "    def __init__(self, Name, Angry, Hp, Rank, Bubble, Defend, Raid):\n",
    "        Player.__init__(self, Name, Angry, Hp, Rank, Bubble, Defend)\n",
    "        self.__Raid = Raid\n",
    "\n",
    "    def Surprise_Attack(self):\n",
    "        time.sleep(0.5)\n",
    "        temp = 0 - self.Angry * self.Rank\n",
    "        if self.Bubble > 0:\n",
    "            temp2 = random.randint(-10, 20)\n",
    "            if temp2 > 0:\n",
    "                temp -= self.__Raid\n",
    "                self.Bubble -= 10\n",
    "        return temp\n",
    "\n",
    "\n",
    "class Archmage(Player):\n",
    "    def __init__(self, Name, Angry, Hp, Rank, Bubble, Defend, Magic):\n",
    "        threading.Thread.__init__(self)\n",
    "        Player.__init__(self, Name, Angry, Hp, Rank, Bubble, Defend)\n",
    "        self.__Magic = Magic\n",
    "\n",
    "    def magicHp(self):\n",
    "        if self.Bubble > 0:\n",
    "            temp = random.randint(50, 100)\n",
    "            if temp > self.__Hp:\n",
    "                self.__Hp = temp + self.__Magic\n",
    "            self.Bubble -= 10\n",
    "\n",
    "    def magic_kill(self):\n",
    "        temp = 0\n",
    "        if self.Bubble > 0:\n",
    "            temp2 = random.randint(-10, 20)\n",
    "            if temp2 > 0:\n",
    "             temp -= self.__Magic\n",
    "             self.Bubble -= 10\n",
    "        return temp\n",
    "\n",
    "\n",
    "def run_tank(tank, assassin):\n",
    "    while tank.getHp() > 0 and assassin.getHp() >= 0:\n",
    "        assassin.setHp(assassin.getHp() + tank.normal_kill())\n",
    "        tank.outputinfo()\n",
    "        time.sleep(0.2)\n",
    "        tank.regenerate()\n",
    "    if tank1.getHp() > 0:\n",
    "        print(\"АРОЛО ВЫИГРАЛ\")\n",
    "    else:\n",
    "        print(\"БАЖДЕ ВЫИГРАЛ\")\n",
    "\n",
    "\n",
    "def run_assassin(tank, assassin):\n",
    "    while assassin.getHp() > 0 and tank.getHp() >= 0:\n",
    "        if tank.random_defend() is True:\n",
    "            tank.setHp(tank.getHp() + assassin.normal_kill())\n",
    "        else:\n",
    "            assassin.Surprise_Attack()\n",
    "        assassin.outputinfo()\n",
    "        time.sleep(0.2)\n",
    "\n",
    "\n",
    "\n",
    "if __name__ == '__main__':\n",
    "    print(\"-------------- ШААААА!--------------\\n\")\n",
    "    time.sleep(1)\n",
    "    print(\"Все персонажи имеют обычные функции убийства и обычной защиты, Hp обозначает объем крови,Bubble обозначает перезарядку умений,Angry обозначает силу,а Defend обозначает обычную защиту.\\n\")\n",
    "    time.sleep(1)\n",
    "    print(\"РОЛИ: Танк, Ассасин, Архимаг\\n\")\n",
    "    time.sleep(1)\n",
    "    print(\"Tank\\n\")\n",
    "    print(\"Специальные навыки танка позволяют быстро восстановить потерянную кровь.\\n\")\n",
    "    time.sleep(1)\n",
    "    print(\"Assassin\\n\")\n",
    "    print(\"Ассасин может атаковать неожиданно.\\n\")\n",
    "    time.sleep(1)\n",
    "    print(\"Archmage\\n\")\n",
    "    print(\"Мастера обладают магией и свободным образом меняют свои атрибуты в пределах определенного диапазона.\\n\")\n",
    "    time.sleep(1)\n",
    "    print(\"НАЧНЕМ!----------------------------------------------------！\")\n",
    "    time.sleep(1)\n",
    "    # Name, Angry, Hp, Rank, Bubble, Defend, Magic):\n",
    "    tank1 = Tank(\"АРОЛО\", 5, 100, 1, 100, 20, 5)\n",
    "    assassin1 = Assassin(\"БАДЖЕ\", 5, 100, 1, 100, 20, 10)\n",
    "    # run_tank(tank1, assassin1)\n",
    "    # run_assassin(tank1, assassin1)\n",
    "\n",
    "    threads = []\n",
    "    t1 = threading.Thread(target=run_tank, args=(tank1, assassin1))\n",
    "    threads.append(t1)\n",
    "    t2 = threading.Thread(target=run_assassin, args=(tank1, assassin1))\n",
    "    threads.append(t2)\n",
    "    for t in threads:\n",
    "        # t.setDaemon(True)\n",
    "        t.start()"
   ]
  },
  {
   "cell_type": "code",
   "execution_count": null,
   "metadata": {
    "collapsed": true
   },
   "outputs": [],
   "source": []
  },
  {
   "cell_type": "markdown",
   "metadata": {},
   "source": [
    "# Задача 8 (Генетический алгоритм)\n",
    "Создать класс клетки с данными ДНК - последовательность символов. Клетка должна уметь делиться "
   ]
  },
  {
   "cell_type": "code",
   "execution_count": 16,
   "metadata": {
    "collapsed": true
   },
   "outputs": [],
   "source": [
    "import random\n",
    "random.seed(42)\n",
    "class Cell:\n",
    "    def __init__(self, DNA = False):\n",
    "        if DNA:\n",
    "            self.DNA = DNA\n",
    "        else:\n",
    "            self.DNA = [random.choice(['A','T','G','C']) for _ in range(random.randint(30,900))]\n",
    "    def mitosis(self):\n",
    "        return Cell(self.DNA)\n"
   ]
  },
  {
   "cell_type": "code",
   "execution_count": 17,
   "metadata": {},
   "outputs": [
    {
     "data": {
      "text/plain": [
       "True"
      ]
     },
     "execution_count": 17,
     "metadata": {},
     "output_type": "execute_result"
    }
   ],
   "source": [
    "a = Cell()\n",
    "b = a.mitosis()\n",
    "b.DNA == a.DNA\n"
   ]
  },
  {
   "cell_type": "code",
   "execution_count": null,
   "metadata": {
    "collapsed": true
   },
   "outputs": [],
   "source": []
  }
 ],
 "metadata": {
  "kernelspec": {
   "display_name": "Python 3",
   "language": "python",
   "name": "python3"
  },
  "language_info": {
   "codemirror_mode": {
    "name": "ipython",
    "version": 3
   },
   "file_extension": ".py",
   "mimetype": "text/x-python",
   "name": "python",
   "nbconvert_exporter": "python",
   "pygments_lexer": "ipython3",
   "version": "3.6.1"
  }
 },
 "nbformat": 4,
 "nbformat_minor": 2
}
